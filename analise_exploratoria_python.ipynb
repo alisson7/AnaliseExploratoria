{
 "cells": [
  {
   "cell_type": "markdown",
   "id": "e8556982-9ef6-4717-b309-c6b940bd0b1b",
   "metadata": {},
   "source": [
    "### Análise Exploratória com Python"
   ]
  },
  {
   "cell_type": "code",
   "execution_count": 1,
   "id": "034450e1-06f1-4624-8472-80d912d52c2b",
   "metadata": {},
   "outputs": [],
   "source": [
    "# Importando as bibliotecas necessárias para a análise\n",
    "import matplotlib.pyplot as plt\n",
    "import pandas as pd\n",
    "import numpy as np"
   ]
  },
  {
   "cell_type": "code",
   "execution_count": 2,
   "id": "b019905c-a1cb-4eb5-85ff-e9f770ddf3d7",
   "metadata": {},
   "outputs": [
    {
     "data": {
      "text/html": [
       "<div>\n",
       "<style scoped>\n",
       "    .dataframe tbody tr th:only-of-type {\n",
       "        vertical-align: middle;\n",
       "    }\n",
       "\n",
       "    .dataframe tbody tr th {\n",
       "        vertical-align: top;\n",
       "    }\n",
       "\n",
       "    .dataframe thead th {\n",
       "        text-align: right;\n",
       "    }\n",
       "</style>\n",
       "<table border=\"1\" class=\"dataframe\">\n",
       "  <thead>\n",
       "    <tr style=\"text-align: right;\">\n",
       "      <th></th>\n",
       "      <th>PassengerId</th>\n",
       "      <th>Survived</th>\n",
       "      <th>Pclass</th>\n",
       "      <th>Name</th>\n",
       "      <th>Sex</th>\n",
       "      <th>Age</th>\n",
       "      <th>SibSp</th>\n",
       "      <th>Parch</th>\n",
       "      <th>Ticket</th>\n",
       "      <th>Fare</th>\n",
       "      <th>Cabin</th>\n",
       "      <th>Embarked</th>\n",
       "    </tr>\n",
       "  </thead>\n",
       "  <tbody>\n",
       "    <tr>\n",
       "      <th>0</th>\n",
       "      <td>1</td>\n",
       "      <td>0</td>\n",
       "      <td>3</td>\n",
       "      <td>Braund, Mr. Owen Harris</td>\n",
       "      <td>male</td>\n",
       "      <td>22.0</td>\n",
       "      <td>1</td>\n",
       "      <td>0</td>\n",
       "      <td>A/5 21171</td>\n",
       "      <td>7.2500</td>\n",
       "      <td>NaN</td>\n",
       "      <td>S</td>\n",
       "    </tr>\n",
       "    <tr>\n",
       "      <th>1</th>\n",
       "      <td>2</td>\n",
       "      <td>1</td>\n",
       "      <td>1</td>\n",
       "      <td>Cumings, Mrs. John Bradley (Florence Briggs Th...</td>\n",
       "      <td>female</td>\n",
       "      <td>38.0</td>\n",
       "      <td>1</td>\n",
       "      <td>0</td>\n",
       "      <td>PC 17599</td>\n",
       "      <td>71.2833</td>\n",
       "      <td>C85</td>\n",
       "      <td>C</td>\n",
       "    </tr>\n",
       "    <tr>\n",
       "      <th>2</th>\n",
       "      <td>3</td>\n",
       "      <td>1</td>\n",
       "      <td>3</td>\n",
       "      <td>Heikkinen, Miss. Laina</td>\n",
       "      <td>female</td>\n",
       "      <td>26.0</td>\n",
       "      <td>0</td>\n",
       "      <td>0</td>\n",
       "      <td>STON/O2. 3101282</td>\n",
       "      <td>7.9250</td>\n",
       "      <td>NaN</td>\n",
       "      <td>S</td>\n",
       "    </tr>\n",
       "    <tr>\n",
       "      <th>3</th>\n",
       "      <td>4</td>\n",
       "      <td>1</td>\n",
       "      <td>1</td>\n",
       "      <td>Futrelle, Mrs. Jacques Heath (Lily May Peel)</td>\n",
       "      <td>female</td>\n",
       "      <td>35.0</td>\n",
       "      <td>1</td>\n",
       "      <td>0</td>\n",
       "      <td>113803</td>\n",
       "      <td>53.1000</td>\n",
       "      <td>C123</td>\n",
       "      <td>S</td>\n",
       "    </tr>\n",
       "    <tr>\n",
       "      <th>4</th>\n",
       "      <td>5</td>\n",
       "      <td>0</td>\n",
       "      <td>3</td>\n",
       "      <td>Allen, Mr. William Henry</td>\n",
       "      <td>male</td>\n",
       "      <td>35.0</td>\n",
       "      <td>0</td>\n",
       "      <td>0</td>\n",
       "      <td>373450</td>\n",
       "      <td>8.0500</td>\n",
       "      <td>NaN</td>\n",
       "      <td>S</td>\n",
       "    </tr>\n",
       "  </tbody>\n",
       "</table>\n",
       "</div>"
      ],
      "text/plain": [
       "   PassengerId  Survived  Pclass  \\\n",
       "0            1         0       3   \n",
       "1            2         1       1   \n",
       "2            3         1       3   \n",
       "3            4         1       1   \n",
       "4            5         0       3   \n",
       "\n",
       "                                                Name     Sex   Age  SibSp  \\\n",
       "0                            Braund, Mr. Owen Harris    male  22.0      1   \n",
       "1  Cumings, Mrs. John Bradley (Florence Briggs Th...  female  38.0      1   \n",
       "2                             Heikkinen, Miss. Laina  female  26.0      0   \n",
       "3       Futrelle, Mrs. Jacques Heath (Lily May Peel)  female  35.0      1   \n",
       "4                           Allen, Mr. William Henry    male  35.0      0   \n",
       "\n",
       "   Parch            Ticket     Fare Cabin Embarked  \n",
       "0      0         A/5 21171   7.2500   NaN        S  \n",
       "1      0          PC 17599  71.2833   C85        C  \n",
       "2      0  STON/O2. 3101282   7.9250   NaN        S  \n",
       "3      0            113803  53.1000  C123        S  \n",
       "4      0            373450   8.0500   NaN        S  "
      ]
     },
     "execution_count": 2,
     "metadata": {},
     "output_type": "execute_result"
    }
   ],
   "source": [
    "data = pd.read_csv('titanic.csv')\n",
    "data.head() # visualizando as 5 primeiras instâncias"
   ]
  },
  {
   "cell_type": "markdown",
   "id": "e5a4149b-a4b2-438b-b712-3b07143fa676",
   "metadata": {},
   "source": [
    "### Etapa 01: Conhecendo os dados"
   ]
  },
  {
   "cell_type": "markdown",
   "id": "5e31fff3-f059-4867-9bdf-07396d9fa295",
   "metadata": {},
   "source": [
    "passengerid = ID do passageiro;<br>\n",
    "survived = 1 se sobreviveu, 0 caso contrário.<br>\n",
    "pclass = Tipo de classe de passagem. Possui 3 valore sendo 1 a melhor classe e 3 a pior classe.<br>\n",
    "name = Nome do passageiro<br>\n",
    "sex = sexo do passageiro (M e F).<br>\n",
    "age = Idade do passageiro na data do naufrágio.<br>\n",
    "sibsp = Número de irmãos / cônjuges a bordo.<br>\n",
    "parch = Número de pais / filhos a bordo.<br>\n",
    "ticket = Código do ticket.<br>\n",
    "fare = Valor da passagem.<br>\n",
    "cabin = Código da Cabine.<br>\n",
    "embarked = Local de embarque.<br>"
   ]
  },
  {
   "cell_type": "code",
   "execution_count": 3,
   "id": "3b7d8521-028e-4f34-995c-3fa52a36e4a4",
   "metadata": {},
   "outputs": [
    {
     "data": {
      "text/plain": [
       "PassengerId      int64\n",
       "Survived         int64\n",
       "Pclass           int64\n",
       "Name            object\n",
       "Sex             object\n",
       "Age            float64\n",
       "SibSp            int64\n",
       "Parch            int64\n",
       "Ticket          object\n",
       "Fare           float64\n",
       "Cabin           object\n",
       "Embarked        object\n",
       "dtype: object"
      ]
     },
     "execution_count": 3,
     "metadata": {},
     "output_type": "execute_result"
    }
   ],
   "source": [
    "data.dtypes"
   ]
  },
  {
   "cell_type": "markdown",
   "id": "1bfb80e4-93ea-40cc-8c5b-b62f468fe4ec",
   "metadata": {},
   "source": [
    "Verificando os tipos de dados de cada variável (coluna):<br>\n",
    "<li>Numéricas:<br></li>\n",
    "variáveis discretas: sibSp<br>\n",
    "variáveis contínuas: fare e age.<br>\n",
    "binária: survived (booleano).<br>\n",
    "<li>Categóricas:<br></li>\n",
    "nominais: Name, Sex<br>\n",
    "Ordinal: cabin"
   ]
  },
  {
   "cell_type": "markdown",
   "id": "7af2121d-89f9-4b12-bd38-250b725ae7b5",
   "metadata": {},
   "source": [
    "### Conhecendo os valores das variáveis"
   ]
  },
  {
   "cell_type": "markdown",
   "id": "cd991502-3c4d-4c40-8eb6-1601d1d86fa1",
   "metadata": {},
   "source": [
    "Avaliar o que são os nulos com a área responsável pela base / técnicas de preenchimento"
   ]
  },
  {
   "cell_type": "code",
   "execution_count": 4,
   "id": "a7bb52ef-e88a-4c8d-a396-29226dbd97e0",
   "metadata": {},
   "outputs": [
    {
     "name": "stdout",
     "output_type": "stream",
     "text": [
      "Total de passageiros: 891\n",
      "\n",
      "Total de informação nula na base: 866\n",
      "\n",
      "Total de nulos por variável:\n",
      " Cabin       687\n",
      "Age         177\n",
      "Embarked      2\n",
      "dtype: int64\n",
      "\n",
      "Total de linhas completamente preenchidas: 183\n"
     ]
    }
   ],
   "source": [
    "print(\"Total de passageiros:\", data.PassengerId.count())\n",
    "print(\"\\nTotal de informação nula na base:\",data.isnull().sum().sum())\n",
    "print(\"\\nTotal de nulos por variável:\\n\", data.isnull().sum()[data.isnull().sum()>0].sort_values(ascending= False))\n",
    "print(\"\\nTotal de linhas completamente preenchidas:\", data.dropna().shape[0])"
   ]
  },
  {
   "cell_type": "markdown",
   "id": "7d5e9fa4-5dc2-43bf-bc02-7687b8cfaa53",
   "metadata": {},
   "source": [
    "### Análise de Outilier"
   ]
  },
  {
   "cell_type": "code",
   "execution_count": 5,
   "id": "4aefb92d-0a77-46d8-b2be-475f268b7888",
   "metadata": {},
   "outputs": [
    {
     "data": {
      "text/html": [
       "<div>\n",
       "<style scoped>\n",
       "    .dataframe tbody tr th:only-of-type {\n",
       "        vertical-align: middle;\n",
       "    }\n",
       "\n",
       "    .dataframe tbody tr th {\n",
       "        vertical-align: top;\n",
       "    }\n",
       "\n",
       "    .dataframe thead th {\n",
       "        text-align: right;\n",
       "    }\n",
       "</style>\n",
       "<table border=\"1\" class=\"dataframe\">\n",
       "  <thead>\n",
       "    <tr style=\"text-align: right;\">\n",
       "      <th></th>\n",
       "      <th>PassengerId</th>\n",
       "      <th>Survived</th>\n",
       "      <th>Pclass</th>\n",
       "      <th>Age</th>\n",
       "      <th>SibSp</th>\n",
       "      <th>Parch</th>\n",
       "      <th>Fare</th>\n",
       "    </tr>\n",
       "  </thead>\n",
       "  <tbody>\n",
       "    <tr>\n",
       "      <th>count</th>\n",
       "      <td>891.000000</td>\n",
       "      <td>891.000000</td>\n",
       "      <td>891.000000</td>\n",
       "      <td>714.000000</td>\n",
       "      <td>891.000000</td>\n",
       "      <td>891.000000</td>\n",
       "      <td>891.000000</td>\n",
       "    </tr>\n",
       "    <tr>\n",
       "      <th>mean</th>\n",
       "      <td>446.000000</td>\n",
       "      <td>0.383838</td>\n",
       "      <td>2.308642</td>\n",
       "      <td>29.699118</td>\n",
       "      <td>0.523008</td>\n",
       "      <td>0.381594</td>\n",
       "      <td>32.204208</td>\n",
       "    </tr>\n",
       "    <tr>\n",
       "      <th>std</th>\n",
       "      <td>257.353842</td>\n",
       "      <td>0.486592</td>\n",
       "      <td>0.836071</td>\n",
       "      <td>14.526497</td>\n",
       "      <td>1.102743</td>\n",
       "      <td>0.806057</td>\n",
       "      <td>49.693429</td>\n",
       "    </tr>\n",
       "    <tr>\n",
       "      <th>min</th>\n",
       "      <td>1.000000</td>\n",
       "      <td>0.000000</td>\n",
       "      <td>1.000000</td>\n",
       "      <td>0.420000</td>\n",
       "      <td>0.000000</td>\n",
       "      <td>0.000000</td>\n",
       "      <td>0.000000</td>\n",
       "    </tr>\n",
       "    <tr>\n",
       "      <th>25%</th>\n",
       "      <td>223.500000</td>\n",
       "      <td>0.000000</td>\n",
       "      <td>2.000000</td>\n",
       "      <td>20.125000</td>\n",
       "      <td>0.000000</td>\n",
       "      <td>0.000000</td>\n",
       "      <td>7.910400</td>\n",
       "    </tr>\n",
       "    <tr>\n",
       "      <th>50%</th>\n",
       "      <td>446.000000</td>\n",
       "      <td>0.000000</td>\n",
       "      <td>3.000000</td>\n",
       "      <td>28.000000</td>\n",
       "      <td>0.000000</td>\n",
       "      <td>0.000000</td>\n",
       "      <td>14.454200</td>\n",
       "    </tr>\n",
       "    <tr>\n",
       "      <th>75%</th>\n",
       "      <td>668.500000</td>\n",
       "      <td>1.000000</td>\n",
       "      <td>3.000000</td>\n",
       "      <td>38.000000</td>\n",
       "      <td>1.000000</td>\n",
       "      <td>0.000000</td>\n",
       "      <td>31.000000</td>\n",
       "    </tr>\n",
       "    <tr>\n",
       "      <th>max</th>\n",
       "      <td>891.000000</td>\n",
       "      <td>1.000000</td>\n",
       "      <td>3.000000</td>\n",
       "      <td>80.000000</td>\n",
       "      <td>8.000000</td>\n",
       "      <td>6.000000</td>\n",
       "      <td>512.329200</td>\n",
       "    </tr>\n",
       "  </tbody>\n",
       "</table>\n",
       "</div>"
      ],
      "text/plain": [
       "       PassengerId    Survived      Pclass         Age       SibSp  \\\n",
       "count   891.000000  891.000000  891.000000  714.000000  891.000000   \n",
       "mean    446.000000    0.383838    2.308642   29.699118    0.523008   \n",
       "std     257.353842    0.486592    0.836071   14.526497    1.102743   \n",
       "min       1.000000    0.000000    1.000000    0.420000    0.000000   \n",
       "25%     223.500000    0.000000    2.000000   20.125000    0.000000   \n",
       "50%     446.000000    0.000000    3.000000   28.000000    0.000000   \n",
       "75%     668.500000    1.000000    3.000000   38.000000    1.000000   \n",
       "max     891.000000    1.000000    3.000000   80.000000    8.000000   \n",
       "\n",
       "            Parch        Fare  \n",
       "count  891.000000  891.000000  \n",
       "mean     0.381594   32.204208  \n",
       "std      0.806057   49.693429  \n",
       "min      0.000000    0.000000  \n",
       "25%      0.000000    7.910400  \n",
       "50%      0.000000   14.454200  \n",
       "75%      0.000000   31.000000  \n",
       "max      6.000000  512.329200  "
      ]
     },
     "execution_count": 5,
     "metadata": {},
     "output_type": "execute_result"
    }
   ],
   "source": [
    "#Encontrar valores atípicos nos dados\n",
    "\n",
    "data.describe()"
   ]
  },
  {
   "cell_type": "markdown",
   "id": "9ff5dd90-9a10-466f-8aac-a826ea568b82",
   "metadata": {},
   "source": [
    "Vamos analisar melhor a variável fare. Parece que temos alguns dados discrepantes, puxando a média para cima.Observem a diferença entre média e mediana!"
   ]
  },
  {
   "cell_type": "code",
   "execution_count": 6,
   "id": "b4db77da-fa02-45df-93d2-42c4145275b7",
   "metadata": {},
   "outputs": [
    {
     "data": {
      "image/png": "[encoded data removed]",
      "text/plain": [
       "<Figure size 432x288 with 1 Axes>"
      ]
     },
     "metadata": {
      "needs_background": "light"
     },
     "output_type": "display_data"
    }
   ],
   "source": [
    "# Como a variável Fare é uma variável contínua, vamos utilizar o gráfico do tipo histograma\n",
    "\n",
    "plt.hist(data.Fare, bins = 30)\n",
    "plt.title(\"Distribuição da variável Fare\")\n",
    "plt.show()"
   ]
  },
  {
   "cell_type": "code",
   "execution_count": 7,
   "id": "9f1e0895-3bf0-4589-b890-1f2118d3de67",
   "metadata": {},
   "outputs": [
    {
     "data": {
      "text/plain": [
       "77.9583"
      ]
     },
     "execution_count": 7,
     "metadata": {},
     "output_type": "execute_result"
    }
   ],
   "source": [
    "#90% das passagens pagas são menores que 78.\n",
    "\n",
    "np.percentile(data.Fare, 90)"
   ]
  },
  {
   "cell_type": "code",
   "execution_count": 8,
   "id": "a02a6b96-874a-4ba3-b3cb-3cc1cac60336",
   "metadata": {},
   "outputs": [
    {
     "data": {
      "image/png": "[encoded data removed]",
      "text/plain": [
       "<Figure size 432x288 with 1 Axes>"
      ]
     },
     "metadata": {
      "needs_background": "light"
     },
     "output_type": "display_data"
    }
   ],
   "source": [
    "# Analisar através do Boxplot\n",
    "\n",
    "plt.boxplot(data.Fare)\n",
    "plt.show()"
   ]
  },
  {
   "cell_type": "markdown",
   "id": "a123863e-2e06-4971-8898-d124c448a926",
   "metadata": {},
   "source": [
    "### Muitos dados discrepantes!"
   ]
  },
  {
   "cell_type": "markdown",
   "id": "8e7feab0-9b7a-4695-b88b-df1069339969",
   "metadata": {},
   "source": [
    "Os outliers podem acabar distorcendo nossa visão sobre um conjunto de dados. Sempre que um conjunto de dados tiver\n",
    "ouliers, precisando ter cuidado de qual métrica usar para resumir os dados, qual modelo usar e também conhecer\n",
    "técnicas para trabalhar com eles."
   ]
  },
  {
   "cell_type": "code",
   "execution_count": 9,
   "id": "9709c634-42db-460b-8b5b-4135d1b3cb90",
   "metadata": {},
   "outputs": [
    {
     "data": {
      "image/png": "[encoded data removed]",
      "text/plain": [
       "<Figure size 720x360 with 1 Axes>"
      ]
     },
     "metadata": {
      "needs_background": "light"
     },
     "output_type": "display_data"
    }
   ],
   "source": [
    "#Uma análise rápida com regressão linear:\n",
    "\n",
    "plt.figure(figsize=[10,5])\n",
    "plt.scatter(data.Age, data.Fare)\n",
    "plt.xlabel('Age')\n",
    "plt.ylabel('Fare')\n",
    "\n",
    "plt.plot([0,70],[0,120], c= 'green')\n",
    "plt.plot([0,70],[0,450], '--', c='red')\n",
    "plt.show()"
   ]
  },
  {
   "cell_type": "markdown",
   "id": "3a27b432-eb78-449d-92ea-7ae750ff2fd3",
   "metadata": {},
   "source": [
    "### Aplicando função em python"
   ]
  },
  {
   "cell_type": "code",
   "execution_count": 10,
   "id": "2335f299-640b-4347-9157-278aac4fb2fc",
   "metadata": {},
   "outputs": [],
   "source": [
    "#Função que calcula todos os componentes do boxplot e assim é possível identificar os outliers a partir do LS e LI.\n",
    "\n",
    "#vejam que o 1.5 é um parâmetro. Esse valor pode ser alterado por você de acordo com seu estudo. Só esteja ciente que\n",
    "#sempre que mudar esse valor, mudamos a quantidade de outliers detectada.\n",
    "\n",
    "def detecta_outlier(x, limite = 1.5):\n",
    "    dq = np.percentile(x, 75) - np.percentile(x, 25)\n",
    "    limite_inf = np.maximum(np.percentile(x, 25) - limite * dq, np.min(x))\n",
    "    limite_sup = np.minimum(np.percentile(x, 75) + limite * dq, np.max(x))\n",
    "    print(\"Limite inferior:\", limite_inf)\n",
    "    print(\"Limite superior:\", limite_sup)\n",
    "    return np.where((x < limite_inf) | (x > limite_sup), 1, 0)"
   ]
  },
  {
   "cell_type": "code",
   "execution_count": 11,
   "id": "ed6fad1e-6abb-40a4-9abd-ade4ccf91035",
   "metadata": {},
   "outputs": [
    {
     "name": "stdout",
     "output_type": "stream",
     "text": [
      "Limite inferior: 0.0\n",
      "Limite superior: 65.6344\n"
     ]
    }
   ],
   "source": [
    "outliers_fare = detecta_outlier(data.Fare)"
   ]
  },
  {
   "cell_type": "markdown",
   "id": "ebaa5737-cf6b-46a8-a623-8b0d6d6a8086",
   "metadata": {},
   "source": [
    "Valores acima do limite superior é considerado outliers."
   ]
  },
  {
   "cell_type": "code",
   "execution_count": 12,
   "id": "7d52faf0-aa94-4894-915d-2822734c9a17",
   "metadata": {},
   "outputs": [],
   "source": [
    "data_outliers = pd.DataFrame(np.c_[data.Fare.values, outliers_fare], columns=['Fare', 'outlier_fare'])"
   ]
  },
  {
   "cell_type": "code",
   "execution_count": 13,
   "id": "83b3dca5-2485-4044-b253-4a7a6ccc5de1",
   "metadata": {},
   "outputs": [
    {
     "data": {
      "text/html": [
       "<div>\n",
       "<style scoped>\n",
       "    .dataframe tbody tr th:only-of-type {\n",
       "        vertical-align: middle;\n",
       "    }\n",
       "\n",
       "    .dataframe tbody tr th {\n",
       "        vertical-align: top;\n",
       "    }\n",
       "\n",
       "    .dataframe thead th {\n",
       "        text-align: right;\n",
       "    }\n",
       "</style>\n",
       "<table border=\"1\" class=\"dataframe\">\n",
       "  <thead>\n",
       "    <tr style=\"text-align: right;\">\n",
       "      <th></th>\n",
       "      <th>Fare</th>\n",
       "      <th>outlier_fare</th>\n",
       "    </tr>\n",
       "  </thead>\n",
       "  <tbody>\n",
       "    <tr>\n",
       "      <th>0</th>\n",
       "      <td>7.2500</td>\n",
       "      <td>0.0</td>\n",
       "    </tr>\n",
       "    <tr>\n",
       "      <th>1</th>\n",
       "      <td>71.2833</td>\n",
       "      <td>1.0</td>\n",
       "    </tr>\n",
       "    <tr>\n",
       "      <th>2</th>\n",
       "      <td>7.9250</td>\n",
       "      <td>0.0</td>\n",
       "    </tr>\n",
       "    <tr>\n",
       "      <th>3</th>\n",
       "      <td>53.1000</td>\n",
       "      <td>0.0</td>\n",
       "    </tr>\n",
       "    <tr>\n",
       "      <th>4</th>\n",
       "      <td>8.0500</td>\n",
       "      <td>0.0</td>\n",
       "    </tr>\n",
       "    <tr>\n",
       "      <th>...</th>\n",
       "      <td>...</td>\n",
       "      <td>...</td>\n",
       "    </tr>\n",
       "    <tr>\n",
       "      <th>886</th>\n",
       "      <td>13.0000</td>\n",
       "      <td>0.0</td>\n",
       "    </tr>\n",
       "    <tr>\n",
       "      <th>887</th>\n",
       "      <td>30.0000</td>\n",
       "      <td>0.0</td>\n",
       "    </tr>\n",
       "    <tr>\n",
       "      <th>888</th>\n",
       "      <td>23.4500</td>\n",
       "      <td>0.0</td>\n",
       "    </tr>\n",
       "    <tr>\n",
       "      <th>889</th>\n",
       "      <td>30.0000</td>\n",
       "      <td>0.0</td>\n",
       "    </tr>\n",
       "    <tr>\n",
       "      <th>890</th>\n",
       "      <td>7.7500</td>\n",
       "      <td>0.0</td>\n",
       "    </tr>\n",
       "  </tbody>\n",
       "</table>\n",
       "<p>891 rows × 2 columns</p>\n",
       "</div>"
      ],
      "text/plain": [
       "        Fare  outlier_fare\n",
       "0     7.2500           0.0\n",
       "1    71.2833           1.0\n",
       "2     7.9250           0.0\n",
       "3    53.1000           0.0\n",
       "4     8.0500           0.0\n",
       "..       ...           ...\n",
       "886  13.0000           0.0\n",
       "887  30.0000           0.0\n",
       "888  23.4500           0.0\n",
       "889  30.0000           0.0\n",
       "890   7.7500           0.0\n",
       "\n",
       "[891 rows x 2 columns]"
      ]
     },
     "execution_count": 13,
     "metadata": {},
     "output_type": "execute_result"
    }
   ],
   "source": [
    "data_outliers"
   ]
  },
  {
   "cell_type": "code",
   "execution_count": 17,
   "id": "861900cf-8400-4f09-8f6d-d9b493dc573f",
   "metadata": {},
   "outputs": [],
   "source": [
    "outliers = data_outliers['outlier_fare'].value_counts()"
   ]
  },
  {
   "cell_type": "code",
   "execution_count": 18,
   "id": "8c96cc78-4d0e-465b-b541-fa38e80b7995",
   "metadata": {},
   "outputs": [
    {
     "name": "stdout",
     "output_type": "stream",
     "text": [
      "0.0    775\n",
      "1.0    116\n",
      "Name: outlier_fare, dtype: int64\n"
     ]
    }
   ],
   "source": [
    "# Vamos verificar quantos valores considerados outliers.\n",
    "print(outliers)"
   ]
  },
  {
   "cell_type": "markdown",
   "id": "16e2fe20-a7a0-42db-bdff-8c8f9a0d6eeb",
   "metadata": {},
   "source": [
    "### Etapa 2: Análise de frequência"
   ]
  },
  {
   "cell_type": "code",
   "execution_count": 19,
   "id": "b1988475-434e-450e-b633-1a1d6cf03b43",
   "metadata": {},
   "outputs": [
    {
     "data": {
      "text/plain": [
       "0      male\n",
       "1    female\n",
       "2    female\n",
       "3    female\n",
       "4      male\n",
       "Name: Sex, dtype: object"
      ]
     },
     "execution_count": 19,
     "metadata": {},
     "output_type": "execute_result"
    }
   ],
   "source": [
    "data.Sex[:5]"
   ]
  },
  {
   "cell_type": "code",
   "execution_count": 20,
   "id": "f492f952-426c-44bf-964c-cbcc71dd073f",
   "metadata": {},
   "outputs": [],
   "source": [
    "# Tabela de frequência para uma variável\n",
    "\n",
    "tbl_freq_sex = pd.DataFrame(data.Sex.value_counts())\n",
    "tbl_freq_sex.rename(columns = {'Sex':'freq_abs_sex'}, inplace = True)\n",
    "tbl_freq_sex['freq_relativa_sex'] = round(tbl_freq_sex.freq_abs_sex  /tbl_freq_sex.freq_abs_sex.sum(),2)"
   ]
  },
  {
   "cell_type": "code",
   "execution_count": 21,
   "id": "37d18ae5-29eb-442e-affa-a43cfcdaf1d3",
   "metadata": {},
   "outputs": [
    {
     "data": {
      "text/html": [
       "<div>\n",
       "<style scoped>\n",
       "    .dataframe tbody tr th:only-of-type {\n",
       "        vertical-align: middle;\n",
       "    }\n",
       "\n",
       "    .dataframe tbody tr th {\n",
       "        vertical-align: top;\n",
       "    }\n",
       "\n",
       "    .dataframe thead th {\n",
       "        text-align: right;\n",
       "    }\n",
       "</style>\n",
       "<table border=\"1\" class=\"dataframe\">\n",
       "  <thead>\n",
       "    <tr style=\"text-align: right;\">\n",
       "      <th></th>\n",
       "      <th>freq_abs_sex</th>\n",
       "      <th>freq_relativa_sex</th>\n",
       "    </tr>\n",
       "  </thead>\n",
       "  <tbody>\n",
       "    <tr>\n",
       "      <th>male</th>\n",
       "      <td>577</td>\n",
       "      <td>0.65</td>\n",
       "    </tr>\n",
       "    <tr>\n",
       "      <th>female</th>\n",
       "      <td>314</td>\n",
       "      <td>0.35</td>\n",
       "    </tr>\n",
       "  </tbody>\n",
       "</table>\n",
       "</div>"
      ],
      "text/plain": [
       "        freq_abs_sex  freq_relativa_sex\n",
       "male             577               0.65\n",
       "female           314               0.35"
      ]
     },
     "execution_count": 21,
     "metadata": {},
     "output_type": "execute_result"
    }
   ],
   "source": [
    "tbl_freq_sex"
   ]
  },
  {
   "cell_type": "code",
   "execution_count": 22,
   "id": "5802d741-ee01-4316-b06a-eac9959fd689",
   "metadata": {},
   "outputs": [
    {
     "data": {
      "image/png": "[encoded data removed]",
      "text/plain": [
       "<Figure size 432x288 with 1 Axes>"
      ]
     },
     "metadata": {
      "needs_background": "light"
     },
     "output_type": "display_data"
    }
   ],
   "source": [
    "# Podemos ver isso graficamente também com um gráfico de barras\n",
    "\n",
    "plt.bar(data.Sex.unique(), data.Sex.value_counts(), color = 'lightblue')\n",
    "plt.title('Distribuição de frequência para variável Sex\\n', {'fontsize': 12,'fontweight': 'bold'})\n",
    "plt.show()"
   ]
  },
  {
   "cell_type": "markdown",
   "id": "85fef9bf-7c1d-40e3-8dcb-f96c8e5bafaf",
   "metadata": {},
   "source": [
    "Qual a probabilidade de sobreviver dado que é um homem? e dado que é mulher?\n",
    "\n",
    "$ P(A|B) = \\dfrac{P(A \\cap B)}{P(B)}$"
   ]
  },
  {
   "cell_type": "code",
   "execution_count": 23,
   "id": "3b93ba54-3219-46ca-99f5-92134f693839",
   "metadata": {},
   "outputs": [
    {
     "data": {
      "text/plain": [
       "0    0.62\n",
       "1    0.38\n",
       "Name: Survived, dtype: float64"
      ]
     },
     "execution_count": 23,
     "metadata": {},
     "output_type": "execute_result"
    }
   ],
   "source": [
    "#probabilidade de sobreviver geral:\n",
    "\n",
    "round(data.Survived.value_counts()/data.Survived.shape[0],2)"
   ]
  },
  {
   "cell_type": "code",
   "execution_count": 24,
   "id": "839f7e85-41f9-47b1-85b7-b8c0734a8000",
   "metadata": {},
   "outputs": [
    {
     "name": "stdout",
     "output_type": "stream",
     "text": [
      "Probabilidade de sobreviver sendo homem: 0.19\n",
      "Probabilidade de sobreviver sendo mulher: 0.74\n"
     ]
    }
   ],
   "source": [
    "# A: sobreviver\n",
    "# B: ser homem/mulher\n",
    "\n",
    "prob_h = data[(data.Survived==1) & ( data.Sex=='male')].shape[0] / data[data.Sex=='male'].shape[0]\n",
    "prob_m = data[(data.Survived==1) & ( data.Sex=='female')].shape[0] / data[data.Sex=='female'].shape[0]\n",
    "\n",
    "print(\"Probabilidade de sobreviver sendo homem:\", round(prob_h,2))\n",
    "print(\"Probabilidade de sobreviver sendo mulher:\", round(prob_m,2))\n",
    "\n",
    "#É provável então que exista grande correlação entre ter sobrevevido e o sexo."
   ]
  },
  {
   "cell_type": "markdown",
   "id": "fe2973b5-0518-4692-b3d2-972999e42ead",
   "metadata": {},
   "source": [
    "### Frequência da variável fare"
   ]
  },
  {
   "cell_type": "code",
   "execution_count": 26,
   "id": "33152b3a-39a8-4413-95c4-44f55e189413",
   "metadata": {},
   "outputs": [
    {
     "data": {
      "text/plain": [
       "count    891.000000\n",
       "mean      32.204208\n",
       "std       49.693429\n",
       "min        0.000000\n",
       "25%        7.910400\n",
       "50%       14.454200\n",
       "75%       31.000000\n",
       "max      512.329200\n",
       "Name: Fare, dtype: float64"
      ]
     },
     "execution_count": 26,
     "metadata": {},
     "output_type": "execute_result"
    }
   ],
   "source": [
    "#Podemos ver aqui que temos fare == 0\n",
    "\n",
    "data.Fare.describe()"
   ]
  },
  {
   "cell_type": "code",
   "execution_count": 27,
   "id": "5ea54cb0-3f9c-4ea7-9163-e22db812defa",
   "metadata": {},
   "outputs": [
    {
     "data": {
      "text/html": [
       "<div>\n",
       "<style scoped>\n",
       "    .dataframe tbody tr th:only-of-type {\n",
       "        vertical-align: middle;\n",
       "    }\n",
       "\n",
       "    .dataframe tbody tr th {\n",
       "        vertical-align: top;\n",
       "    }\n",
       "\n",
       "    .dataframe thead th {\n",
       "        text-align: right;\n",
       "    }\n",
       "</style>\n",
       "<table border=\"1\" class=\"dataframe\">\n",
       "  <thead>\n",
       "    <tr style=\"text-align: right;\">\n",
       "      <th></th>\n",
       "      <th>PassengerId</th>\n",
       "      <th>Survived</th>\n",
       "      <th>Pclass</th>\n",
       "      <th>Name</th>\n",
       "      <th>Sex</th>\n",
       "      <th>Age</th>\n",
       "      <th>SibSp</th>\n",
       "      <th>Parch</th>\n",
       "      <th>Ticket</th>\n",
       "      <th>Fare</th>\n",
       "      <th>Cabin</th>\n",
       "      <th>Embarked</th>\n",
       "    </tr>\n",
       "  </thead>\n",
       "  <tbody>\n",
       "    <tr>\n",
       "      <th>179</th>\n",
       "      <td>180</td>\n",
       "      <td>0</td>\n",
       "      <td>3</td>\n",
       "      <td>Leonard, Mr. Lionel</td>\n",
       "      <td>male</td>\n",
       "      <td>36.0</td>\n",
       "      <td>0</td>\n",
       "      <td>0</td>\n",
       "      <td>LINE</td>\n",
       "      <td>0.0</td>\n",
       "      <td>NaN</td>\n",
       "      <td>S</td>\n",
       "    </tr>\n",
       "    <tr>\n",
       "      <th>263</th>\n",
       "      <td>264</td>\n",
       "      <td>0</td>\n",
       "      <td>1</td>\n",
       "      <td>Harrison, Mr. William</td>\n",
       "      <td>male</td>\n",
       "      <td>40.0</td>\n",
       "      <td>0</td>\n",
       "      <td>0</td>\n",
       "      <td>112059</td>\n",
       "      <td>0.0</td>\n",
       "      <td>B94</td>\n",
       "      <td>S</td>\n",
       "    </tr>\n",
       "    <tr>\n",
       "      <th>271</th>\n",
       "      <td>272</td>\n",
       "      <td>1</td>\n",
       "      <td>3</td>\n",
       "      <td>Tornquist, Mr. William Henry</td>\n",
       "      <td>male</td>\n",
       "      <td>25.0</td>\n",
       "      <td>0</td>\n",
       "      <td>0</td>\n",
       "      <td>LINE</td>\n",
       "      <td>0.0</td>\n",
       "      <td>NaN</td>\n",
       "      <td>S</td>\n",
       "    </tr>\n",
       "    <tr>\n",
       "      <th>277</th>\n",
       "      <td>278</td>\n",
       "      <td>0</td>\n",
       "      <td>2</td>\n",
       "      <td>Parkes, Mr. Francis \"Frank\"</td>\n",
       "      <td>male</td>\n",
       "      <td>NaN</td>\n",
       "      <td>0</td>\n",
       "      <td>0</td>\n",
       "      <td>239853</td>\n",
       "      <td>0.0</td>\n",
       "      <td>NaN</td>\n",
       "      <td>S</td>\n",
       "    </tr>\n",
       "    <tr>\n",
       "      <th>302</th>\n",
       "      <td>303</td>\n",
       "      <td>0</td>\n",
       "      <td>3</td>\n",
       "      <td>Johnson, Mr. William Cahoone Jr</td>\n",
       "      <td>male</td>\n",
       "      <td>19.0</td>\n",
       "      <td>0</td>\n",
       "      <td>0</td>\n",
       "      <td>LINE</td>\n",
       "      <td>0.0</td>\n",
       "      <td>NaN</td>\n",
       "      <td>S</td>\n",
       "    </tr>\n",
       "    <tr>\n",
       "      <th>413</th>\n",
       "      <td>414</td>\n",
       "      <td>0</td>\n",
       "      <td>2</td>\n",
       "      <td>Cunningham, Mr. Alfred Fleming</td>\n",
       "      <td>male</td>\n",
       "      <td>NaN</td>\n",
       "      <td>0</td>\n",
       "      <td>0</td>\n",
       "      <td>239853</td>\n",
       "      <td>0.0</td>\n",
       "      <td>NaN</td>\n",
       "      <td>S</td>\n",
       "    </tr>\n",
       "    <tr>\n",
       "      <th>466</th>\n",
       "      <td>467</td>\n",
       "      <td>0</td>\n",
       "      <td>2</td>\n",
       "      <td>Campbell, Mr. William</td>\n",
       "      <td>male</td>\n",
       "      <td>NaN</td>\n",
       "      <td>0</td>\n",
       "      <td>0</td>\n",
       "      <td>239853</td>\n",
       "      <td>0.0</td>\n",
       "      <td>NaN</td>\n",
       "      <td>S</td>\n",
       "    </tr>\n",
       "    <tr>\n",
       "      <th>481</th>\n",
       "      <td>482</td>\n",
       "      <td>0</td>\n",
       "      <td>2</td>\n",
       "      <td>Frost, Mr. Anthony Wood \"Archie\"</td>\n",
       "      <td>male</td>\n",
       "      <td>NaN</td>\n",
       "      <td>0</td>\n",
       "      <td>0</td>\n",
       "      <td>239854</td>\n",
       "      <td>0.0</td>\n",
       "      <td>NaN</td>\n",
       "      <td>S</td>\n",
       "    </tr>\n",
       "    <tr>\n",
       "      <th>597</th>\n",
       "      <td>598</td>\n",
       "      <td>0</td>\n",
       "      <td>3</td>\n",
       "      <td>Johnson, Mr. Alfred</td>\n",
       "      <td>male</td>\n",
       "      <td>49.0</td>\n",
       "      <td>0</td>\n",
       "      <td>0</td>\n",
       "      <td>LINE</td>\n",
       "      <td>0.0</td>\n",
       "      <td>NaN</td>\n",
       "      <td>S</td>\n",
       "    </tr>\n",
       "    <tr>\n",
       "      <th>633</th>\n",
       "      <td>634</td>\n",
       "      <td>0</td>\n",
       "      <td>1</td>\n",
       "      <td>Parr, Mr. William Henry Marsh</td>\n",
       "      <td>male</td>\n",
       "      <td>NaN</td>\n",
       "      <td>0</td>\n",
       "      <td>0</td>\n",
       "      <td>112052</td>\n",
       "      <td>0.0</td>\n",
       "      <td>NaN</td>\n",
       "      <td>S</td>\n",
       "    </tr>\n",
       "    <tr>\n",
       "      <th>674</th>\n",
       "      <td>675</td>\n",
       "      <td>0</td>\n",
       "      <td>2</td>\n",
       "      <td>Watson, Mr. Ennis Hastings</td>\n",
       "      <td>male</td>\n",
       "      <td>NaN</td>\n",
       "      <td>0</td>\n",
       "      <td>0</td>\n",
       "      <td>239856</td>\n",
       "      <td>0.0</td>\n",
       "      <td>NaN</td>\n",
       "      <td>S</td>\n",
       "    </tr>\n",
       "    <tr>\n",
       "      <th>732</th>\n",
       "      <td>733</td>\n",
       "      <td>0</td>\n",
       "      <td>2</td>\n",
       "      <td>Knight, Mr. Robert J</td>\n",
       "      <td>male</td>\n",
       "      <td>NaN</td>\n",
       "      <td>0</td>\n",
       "      <td>0</td>\n",
       "      <td>239855</td>\n",
       "      <td>0.0</td>\n",
       "      <td>NaN</td>\n",
       "      <td>S</td>\n",
       "    </tr>\n",
       "    <tr>\n",
       "      <th>806</th>\n",
       "      <td>807</td>\n",
       "      <td>0</td>\n",
       "      <td>1</td>\n",
       "      <td>Andrews, Mr. Thomas Jr</td>\n",
       "      <td>male</td>\n",
       "      <td>39.0</td>\n",
       "      <td>0</td>\n",
       "      <td>0</td>\n",
       "      <td>112050</td>\n",
       "      <td>0.0</td>\n",
       "      <td>A36</td>\n",
       "      <td>S</td>\n",
       "    </tr>\n",
       "    <tr>\n",
       "      <th>815</th>\n",
       "      <td>816</td>\n",
       "      <td>0</td>\n",
       "      <td>1</td>\n",
       "      <td>Fry, Mr. Richard</td>\n",
       "      <td>male</td>\n",
       "      <td>NaN</td>\n",
       "      <td>0</td>\n",
       "      <td>0</td>\n",
       "      <td>112058</td>\n",
       "      <td>0.0</td>\n",
       "      <td>B102</td>\n",
       "      <td>S</td>\n",
       "    </tr>\n",
       "    <tr>\n",
       "      <th>822</th>\n",
       "      <td>823</td>\n",
       "      <td>0</td>\n",
       "      <td>1</td>\n",
       "      <td>Reuchlin, Jonkheer. John George</td>\n",
       "      <td>male</td>\n",
       "      <td>38.0</td>\n",
       "      <td>0</td>\n",
       "      <td>0</td>\n",
       "      <td>19972</td>\n",
       "      <td>0.0</td>\n",
       "      <td>NaN</td>\n",
       "      <td>S</td>\n",
       "    </tr>\n",
       "  </tbody>\n",
       "</table>\n",
       "</div>"
      ],
      "text/plain": [
       "     PassengerId  Survived  Pclass                              Name   Sex  \\\n",
       "179          180         0       3               Leonard, Mr. Lionel  male   \n",
       "263          264         0       1             Harrison, Mr. William  male   \n",
       "271          272         1       3      Tornquist, Mr. William Henry  male   \n",
       "277          278         0       2       Parkes, Mr. Francis \"Frank\"  male   \n",
       "302          303         0       3   Johnson, Mr. William Cahoone Jr  male   \n",
       "413          414         0       2    Cunningham, Mr. Alfred Fleming  male   \n",
       "466          467         0       2             Campbell, Mr. William  male   \n",
       "481          482         0       2  Frost, Mr. Anthony Wood \"Archie\"  male   \n",
       "597          598         0       3               Johnson, Mr. Alfred  male   \n",
       "633          634         0       1     Parr, Mr. William Henry Marsh  male   \n",
       "674          675         0       2        Watson, Mr. Ennis Hastings  male   \n",
       "732          733         0       2              Knight, Mr. Robert J  male   \n",
       "806          807         0       1            Andrews, Mr. Thomas Jr  male   \n",
       "815          816         0       1                  Fry, Mr. Richard  male   \n",
       "822          823         0       1   Reuchlin, Jonkheer. John George  male   \n",
       "\n",
       "      Age  SibSp  Parch  Ticket  Fare Cabin Embarked  \n",
       "179  36.0      0      0    LINE   0.0   NaN        S  \n",
       "263  40.0      0      0  112059   0.0   B94        S  \n",
       "271  25.0      0      0    LINE   0.0   NaN        S  \n",
       "277   NaN      0      0  239853   0.0   NaN        S  \n",
       "302  19.0      0      0    LINE   0.0   NaN        S  \n",
       "413   NaN      0      0  239853   0.0   NaN        S  \n",
       "466   NaN      0      0  239853   0.0   NaN        S  \n",
       "481   NaN      0      0  239854   0.0   NaN        S  \n",
       "597  49.0      0      0    LINE   0.0   NaN        S  \n",
       "633   NaN      0      0  112052   0.0   NaN        S  \n",
       "674   NaN      0      0  239856   0.0   NaN        S  \n",
       "732   NaN      0      0  239855   0.0   NaN        S  \n",
       "806  39.0      0      0  112050   0.0   A36        S  \n",
       "815   NaN      0      0  112058   0.0  B102        S  \n",
       "822  38.0      0      0   19972   0.0   NaN        S  "
      ]
     },
     "execution_count": 27,
     "metadata": {},
     "output_type": "execute_result"
    }
   ],
   "source": [
    "#Vamos investigar quem são os passageiros que aparentemente não pagaram nada pela viagem.\n",
    "\n",
    "data[data.Fare==0]"
   ]
  },
  {
   "cell_type": "code",
   "execution_count": 29,
   "id": "d6a0b5d2-f35f-4b4b-9749-f99a798fe0b0",
   "metadata": {},
   "outputs": [
    {
     "data": {
      "image/png": "[encoded data removed]",
      "text/plain": [
       "<Figure size 1080x360 with 3 Axes>"
      ]
     },
     "metadata": {
      "needs_background": "light"
     },
     "output_type": "display_data"
    }
   ],
   "source": [
    "# Vários gráficos numa mesma imagem:\n",
    "\n",
    "fig = plt.figure(figsize=(15,5)) #tamanho do frame\n",
    "plt.subplots_adjust(wspace= 0.5) #espaço entre os graficos\n",
    "plt.suptitle('Visões diferentes da Fare') #titulo da visão geral (não é o título de cada gráfico)\n",
    "plt.subplot(1,3,1) #posição do primeiro gráfico (1 linha, 3 colunas, posição 1 )\n",
    "plt.boxplot(data.Fare, meanline = True)\n",
    "plt.xlabel('Fare', {'fontsize': 12}) #legenda no eixo x\n",
    "plt.subplot(1,3,2)\n",
    "plt.boxplot(data.Fare, showfliers=False)\n",
    "plt.xlabel('Fare', {'fontsize': 12})\n",
    "plt.subplot(1,3,3)\n",
    "plt.hist(data.Fare, bins = 20)\n",
    "plt.xlabel('Fare', {'fontsize': 12})\n",
    "plt.show()"
   ]
  },
  {
   "cell_type": "markdown",
   "id": "92108e64-9cc5-40ef-b692-a12159ad0a32",
   "metadata": {},
   "source": [
    "### Análise de Fare com Age"
   ]
  },
  {
   "cell_type": "code",
   "execution_count": 30,
   "id": "7bedc243-fc5b-4d53-b8ae-8949b2f4d4e7",
   "metadata": {},
   "outputs": [
    {
     "data": {
      "image/png": "[encoded data removed]",
      "text/plain": [
       "<Figure size 864x360 with 2 Axes>"
      ]
     },
     "metadata": {
      "needs_background": "light"
     },
     "output_type": "display_data"
    }
   ],
   "source": [
    "plt.figure(figsize=[12,5])\n",
    "plt.subplots_adjust(wspace=0.2)\n",
    "plt.subplot(1,2,1)\n",
    "plt.title(\"Fare vs Age\")\n",
    "plt.scatter(data.Age, data.Fare)\n",
    "plt.xlabel('Age')\n",
    "plt.ylabel('Fare')\n",
    "plt.subplot(1,2,2)\n",
    "plt.title(\"Fare vs Age\")\n",
    "plt.scatter(data.Age, data.Fare)\n",
    "plt.xlabel('Age')\n",
    "plt.ylabel('Fare')\n",
    "plt.ylim([-10,300])\n",
    "plt.show()"
   ]
  },
  {
   "cell_type": "code",
   "execution_count": 31,
   "id": "b69b7b43-6ffa-4902-8475-b406ab6b39c2",
   "metadata": {},
   "outputs": [
    {
     "data": {
      "text/html": [
       "<div>\n",
       "<style scoped>\n",
       "    .dataframe tbody tr th:only-of-type {\n",
       "        vertical-align: middle;\n",
       "    }\n",
       "\n",
       "    .dataframe tbody tr th {\n",
       "        vertical-align: top;\n",
       "    }\n",
       "\n",
       "    .dataframe thead th {\n",
       "        text-align: right;\n",
       "    }\n",
       "</style>\n",
       "<table border=\"1\" class=\"dataframe\">\n",
       "  <thead>\n",
       "    <tr style=\"text-align: right;\">\n",
       "      <th></th>\n",
       "      <th>Fare</th>\n",
       "    </tr>\n",
       "  </thead>\n",
       "  <tbody>\n",
       "    <tr>\n",
       "      <th>PassengerId</th>\n",
       "      <td>0.012658</td>\n",
       "    </tr>\n",
       "    <tr>\n",
       "      <th>Survived</th>\n",
       "      <td>0.257307</td>\n",
       "    </tr>\n",
       "    <tr>\n",
       "      <th>Pclass</th>\n",
       "      <td>-0.549500</td>\n",
       "    </tr>\n",
       "    <tr>\n",
       "      <th>Age</th>\n",
       "      <td>0.096067</td>\n",
       "    </tr>\n",
       "    <tr>\n",
       "      <th>SibSp</th>\n",
       "      <td>0.159651</td>\n",
       "    </tr>\n",
       "    <tr>\n",
       "      <th>Parch</th>\n",
       "      <td>0.216225</td>\n",
       "    </tr>\n",
       "    <tr>\n",
       "      <th>Fare</th>\n",
       "      <td>1.000000</td>\n",
       "    </tr>\n",
       "  </tbody>\n",
       "</table>\n",
       "</div>"
      ],
      "text/plain": [
       "                 Fare\n",
       "PassengerId  0.012658\n",
       "Survived     0.257307\n",
       "Pclass      -0.549500\n",
       "Age          0.096067\n",
       "SibSp        0.159651\n",
       "Parch        0.216225\n",
       "Fare         1.000000"
      ]
     },
     "execution_count": 31,
     "metadata": {},
     "output_type": "execute_result"
    }
   ],
   "source": [
    "# data.corr() calcula a correlação te todas com todas as variáveis do data, cujo tipo é numérico.\n",
    "# Aqui estamos selecionando apenas a coluna fare.\n",
    "\n",
    "data.corr()[['Fare']]"
   ]
  },
  {
   "cell_type": "markdown",
   "id": "2fcfe770-23d3-4337-af55-6480bd24b8c9",
   "metadata": {},
   "source": [
    "### Etapa 3: Análise das variáveis relacionando com a variável target"
   ]
  },
  {
   "cell_type": "markdown",
   "id": "92ece8bb-2c11-403f-be72-a549d6578eff",
   "metadata": {},
   "source": [
    "Geralmente quando vamos construir um modelo, por exemplo para prever a renda de alguém, ou se um cliente vai ou não comprar um produto, queremos entender como algumas variáveis conseguem ajudar a explicar esses eventos.\n",
    "\n",
    "Variáveis que tenham correlação com o que queremos prever são boas candidatas!"
   ]
  },
  {
   "cell_type": "code",
   "execution_count": 32,
   "id": "0b75d8a4-705b-4700-bb74-2a2fd02a3a61",
   "metadata": {},
   "outputs": [
    {
     "name": "stdout",
     "output_type": "stream",
     "text": [
      "Tipo da variável: int64\n",
      "\n",
      "Percentual de nulos: 0.0 %\n",
      "\n",
      "Possíveis valores: [0 1]\n",
      "\n",
      "Frequência de cada possível valor:\n",
      " 0    549\n",
      "1    342\n",
      "Name: Survived, dtype: int64\n",
      "\n",
      "Frequência relativa de cada possível valor/ Probabilidade de sobreviver geral:\n",
      " 0    0.62\n",
      "1    0.38\n",
      "Name: Survived, dtype: float64\n"
     ]
    }
   ],
   "source": [
    "print(\"Tipo da variável:\",data.Survived.dtype)\n",
    "print(\"\\nPercentual de nulos:\", data.Survived.isnull().sum()/data.Survived.shape[0], \"%\")\n",
    "print(\"\\nPossíveis valores:\", data.Survived.unique())\n",
    "print(\"\\nFrequência de cada possível valor:\\n\", data.Survived.value_counts())\n",
    "print(\"\\nFrequência relativa de cada possível valor/ Probabilidade de sobreviver geral:\\n\", round(data.Survived.value_counts()/data.Survived.shape[0],2))"
   ]
  },
  {
   "cell_type": "code",
   "execution_count": 33,
   "id": "0a58d858-b776-4b36-bc64-bbbca4ffaa68",
   "metadata": {},
   "outputs": [],
   "source": [
    "# Como está a distribuição da variável survived em cada local de embarque?"
   ]
  },
  {
   "cell_type": "code",
   "execution_count": 34,
   "id": "19bbd1da-d5eb-4cc2-8209-5f6d8a5fdec3",
   "metadata": {},
   "outputs": [
    {
     "name": "stdout",
     "output_type": "stream",
     "text": [
      "            0    1\n",
      "Embarked          \n",
      "C          75   93\n",
      "Q          47   30\n",
      "S         427  217\n",
      "\n",
      "                 0         1\n",
      "Embarked                    \n",
      "C         0.446429  0.553571\n",
      "Q         0.610390  0.389610\n",
      "S         0.663043  0.336957\n"
     ]
    }
   ],
   "source": [
    "df_embarked = data.groupby('Embarked').apply(lambda x: x.Survived.value_counts()).unstack()\n",
    "df_embarked_pct = data.groupby('Embarked').apply(lambda x: x.Survived.value_counts()/x.shape[0]).unstack()\n",
    "print(df_embarked)\n",
    "print()\n",
    "print(df_embarked_pct.sort_values(by = 0))"
   ]
  },
  {
   "cell_type": "code",
   "execution_count": 35,
   "id": "1cd34f89-a3f9-499f-b5b4-8ecb9c02fd86",
   "metadata": {},
   "outputs": [
    {
     "data": {
      "image/png": "[encoded data removed]",
      "text/plain": [
       "<Figure size 432x288 with 1 Axes>"
      ]
     },
     "metadata": {
      "needs_background": "light"
     },
     "output_type": "display_data"
    },
    {
     "data": {
      "image/png": "[encoded data removed]",
      "text/plain": [
       "<Figure size 432x288 with 1 Axes>"
      ]
     },
     "metadata": {
      "needs_background": "light"
     },
     "output_type": "display_data"
    }
   ],
   "source": [
    "labels = list(df_embarked.index) #labels do gráfico de barras\n",
    "\n",
    "morreram = df_embarked[0].values #valores para construção do grafico de barras\n",
    "sobreviveram = df_embarked[1].values #valores para construção do grafico de barras\n",
    "\n",
    "morreram_pct = df_embarked_pct[0].values #valores para construção do grafico de barras\n",
    "sobreviveram_pct= df_embarked_pct[1].values #valores para construção do grafico de barras\n",
    "\n",
    "\n",
    "x = np.arange(len(labels))  #localização dos labels\n",
    "width = 0.35  # largura das barras\n",
    "\n",
    "fig, ax = plt.subplots() #construção do frame, criando figura e eixos\n",
    "\n",
    "rects1 = ax.bar(x - width/2, morreram, width, label='Morreram') #valores para construção do gráfico de barras\n",
    "rects2 = ax.bar(x + width/2, sobreviveram, width, label='Sobreviveram')\n",
    "\n",
    "# Adicona título no gráfico, legenda nos eixos e no gráfico legenda\n",
    "ax.set_ylabel('Frequência') #legenda eixo y\n",
    "ax.set_title('Distribuição da Survived por local de embarque') #titulo\n",
    "ax.set_xticks(x) #seta a posição dos labels\n",
    "ax.set_xticklabels(labels) # legenda dos labels do eixo x\n",
    "ax.legend() #legenda do gráfico\n",
    "plt.show()\n",
    "\n",
    "fig, ax1 = plt.subplots()\n",
    "rects3 = ax1.bar(x - width/2, morreram_pct, width, label='Morreram')\n",
    "rects4 = ax1.bar(x + width/2, sobreviveram_pct, width, label='Sobreviveram')\n",
    "\n",
    "# Add some text for labels, title and custom x-axis tick labels, etc.\n",
    "ax1.set_ylabel('%')\n",
    "ax1.set_title('Distribuição da Survived por local de embarque')\n",
    "ax1.set_xticks(x)\n",
    "ax1.set_xticklabels(labels)\n",
    "ax1.legend()\n",
    "plt.show()"
   ]
  },
  {
   "cell_type": "markdown",
   "id": "0e4181b1-ee43-41b1-8764-859d690c45c1",
   "metadata": {},
   "source": [
    "### Conclusão"
   ]
  },
  {
   "cell_type": "markdown",
   "id": "8b048b69-2099-43b9-8ed5-2af60635c6f3",
   "metadata": {},
   "source": [
    "Foi possível obter alguns insights após essas análises básicas de dados. <br>\n",
    "Abordamos sobre outliers, criamos os principais gráficos, utilizamos função em python, <br> \n",
    "abordamos função lambda, aplicamos estatística descritiva e regressão, entendemos sobre correlação <br> \n",
    "entre outras técnicas.<br>\n",
    "Utilizo sempre a linguagem Python para análise de dados profunda e criação de gráficos. "
   ]
  }
 ],
 "metadata": {
  "kernelspec": {
   "display_name": "Python 3 (ipykernel)",
   "language": "python",
   "name": "python3"
  },
  "language_info": {
   "codemirror_mode": {
    "name": "ipython",
    "version": 3
   },
   "file_extension": ".py",
   "mimetype": "text/x-python",
   "name": "python",
   "nbconvert_exporter": "python",
   "pygments_lexer": "ipython3",
   "version": "3.9.12"
  }
 },
 "nbformat": 4,
 "nbformat_minor": 5
}
